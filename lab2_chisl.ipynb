{
  "nbformat": 4,
  "nbformat_minor": 0,
  "metadata": {
    "colab": {
      "provenance": []
    },
    "kernelspec": {
      "name": "python3",
      "display_name": "Python 3"
    },
    "language_info": {
      "name": "python"
    }
  },
  "cells": [
    {
      "cell_type": "markdown",
      "source": [
        "# Лабораторная работа №2"
      ],
      "metadata": {
        "id": "nZApF1pDcdUH"
      }
    },
    {
      "cell_type": "markdown",
      "source": [
        "## Основные методы"
      ],
      "metadata": {
        "id": "Jobk0-RlcSZJ"
      }
    },
    {
      "cell_type": "markdown",
      "source": [
        "### Метод деления отрезка пополам"
      ],
      "metadata": {
        "id": "lmu-HzeCV0O5"
      }
    },
    {
      "cell_type": "code",
      "execution_count": 4,
      "metadata": {
        "id": "Rl_s-DYSVmrl"
      },
      "outputs": [],
      "source": [
        "def bisection(f, a, b, eps=.01):\n",
        "    left, right = a, b\n",
        "    middle_x = 0\n",
        "    c = 0\n",
        "    while (right - left) >= eps:\n",
        "        c += 1\n",
        "        middle_x = (right+left)/2\n",
        "        if f(middle_x)*f(left) < 0: right = middle_x\n",
        "        else: left = middle_x\n",
        "        print()\n",
        "        print(f'a={left}, b={right}, middle_x={middle_x}, f(middle)={f(middle_x)}, f(left)={f(left)}, f(right)={f(right)}')\n",
        "    return f'корень: {middle_x}, кол-во итераций: {c}'\n",
        "\n"
      ]
    },
    {
      "cell_type": "code",
      "source": [
        "f = lambda x: x**3 + x - 3\n",
        "eps = .01\n",
        "a = 0\n",
        "b = 2\n",
        "print(bisection(f, a, b, eps=eps))"
      ],
      "metadata": {
        "colab": {
          "base_uri": "https://localhost:8080/"
        },
        "id": "_4GFZl7VVujD",
        "outputId": "f2c4a652-a33c-43b0-bb04-82479d889921"
      },
      "execution_count": 5,
      "outputs": [
        {
          "output_type": "stream",
          "name": "stdout",
          "text": [
            "\n",
            "a=1.0, b=2, middle_x=1.0, f(middle)=-1.0, f(left)=-1.0, f(right)=7\n",
            "\n",
            "a=1.0, b=1.5, middle_x=1.5, f(middle)=1.875, f(left)=-1.0, f(right)=1.875\n",
            "\n",
            "a=1.0, b=1.25, middle_x=1.25, f(middle)=0.203125, f(left)=-1.0, f(right)=0.203125\n",
            "\n",
            "a=1.125, b=1.25, middle_x=1.125, f(middle)=-0.451171875, f(left)=-0.451171875, f(right)=0.203125\n",
            "\n",
            "a=1.1875, b=1.25, middle_x=1.1875, f(middle)=-0.137939453125, f(left)=-0.137939453125, f(right)=0.203125\n",
            "\n",
            "a=1.1875, b=1.21875, middle_x=1.21875, f(middle)=0.029022216796875, f(left)=-0.137939453125, f(right)=0.029022216796875\n",
            "\n",
            "a=1.203125, b=1.21875, middle_x=1.203125, f(middle)=-0.055339813232421875, f(left)=-0.055339813232421875, f(right)=0.029022216796875\n",
            "\n",
            "a=1.2109375, b=1.21875, middle_x=1.2109375, f(middle)=-0.01338052749633789, f(left)=-0.01338052749633789, f(right)=0.029022216796875\n",
            "корень: 1.2109375, кол-во итераций: 8\n"
          ]
        }
      ]
    },
    {
      "cell_type": "markdown",
      "source": [
        "### Метод Ньютона"
      ],
      "metadata": {
        "id": "Psw36LZqV7sS"
      }
    },
    {
      "cell_type": "code",
      "source": [
        "from scipy.misc import derivative"
      ],
      "metadata": {
        "id": "V33hrACPV-Ay"
      },
      "execution_count": 8,
      "outputs": []
    },
    {
      "cell_type": "code",
      "source": [
        "def newton(f, a, b, eps=.01):\n",
        "    if (f(a) * derivative(f, a, n=2)) > 2: x0 = a\n",
        "    else: x0 = b\n",
        "    x_new = x0\n",
        "    x_old = 1000\n",
        "    c = 0\n",
        "    while(abs(f(x_new)) >= eps or abs(x_new - x_old) >= eps):\n",
        "      c += 1\n",
        "      # new = x_new\n",
        "      x_old_copy = x_old\n",
        "      x_old, x_new = x_new, x_old_copy - f(x_old_copy)/derivative(f, x_old_copy)\n",
        "      # x_old = new\n",
        "    return f'корень: {x_new}, кол-во итераций: {c}'\n",
        "print('-------------------------------')\n"
      ],
      "metadata": {
        "colab": {
          "base_uri": "https://localhost:8080/"
        },
        "id": "Tbx4Jbn8WPS5",
        "outputId": "f8249167-d12e-4400-f326-7ae2d0cd3fc6"
      },
      "execution_count": 9,
      "outputs": [
        {
          "output_type": "stream",
          "name": "stdout",
          "text": [
            "-------------------------------\n"
          ]
        }
      ]
    },
    {
      "cell_type": "code",
      "source": [
        "print(newton(f, a, b))\n"
      ],
      "metadata": {
        "colab": {
          "base_uri": "https://localhost:8080/"
        },
        "id": "Ko0AJoYibu2u",
        "outputId": "e5c6c006-291f-4ed7-8045-3a5f9ed1a572"
      },
      "execution_count": 10,
      "outputs": [
        {
          "output_type": "stream",
          "name": "stdout",
          "text": [
            "корень: 1.2134116627622313, кол-во итераций: 38\n"
          ]
        },
        {
          "output_type": "stream",
          "name": "stderr",
          "text": [
            "<ipython-input-9-0227ecc76e3c>:2: DeprecationWarning: scipy.misc.derivative is deprecated in SciPy v1.10.0; and will be completely removed in SciPy v1.12.0. You may consider using findiff: https://github.com/maroba/findiff or numdifftools: https://github.com/pbrod/numdifftools\n",
            "  if (f(a) * derivative(f, a, n=2)) > 2: x0 = a\n",
            "<ipython-input-9-0227ecc76e3c>:11: DeprecationWarning: scipy.misc.derivative is deprecated in SciPy v1.10.0; and will be completely removed in SciPy v1.12.0. You may consider using findiff: https://github.com/maroba/findiff or numdifftools: https://github.com/pbrod/numdifftools\n",
            "  x_old, x_new = x_new, x_old_copy - f(x_old_copy)/derivative(f, x_old_copy)\n"
          ]
        }
      ]
    },
    {
      "cell_type": "code",
      "source": [],
      "metadata": {
        "id": "ZYRvoHN6bvFd"
      },
      "execution_count": null,
      "outputs": []
    },
    {
      "cell_type": "markdown",
      "source": [
        "### Метод простой итерации"
      ],
      "metadata": {
        "id": "BoSvYFDwbzdO"
      }
    },
    {
      "cell_type": "code",
      "source": [
        "M = 5"
      ],
      "metadata": {
        "id": "BQp8qWV5d5xi"
      },
      "execution_count": null,
      "outputs": []
    },
    {
      "cell_type": "code",
      "source": [
        "def simple_iteration(f, a, b, eps=.01):\n",
        "  x_new = b\n",
        "  x_old = 1000\n",
        "  c = 0\n",
        "  while(abs(x_new - x_old) >= eps):\n",
        "    c += 1\n",
        "    # x_new_copy = x_new\n",
        "    x_old = x_new\n",
        "    x_new = x_old - f(x_old)/M\n",
        "    print(f'x_new {x_new}, x_old {x_old}')\n",
        "  return f'корень: {x_new}, кол-во итераций: {c}'"
      ],
      "metadata": {
        "id": "_Q1xHxgYcbUm"
      },
      "execution_count": null,
      "outputs": []
    },
    {
      "cell_type": "code",
      "source": [
        "simple_iteration(f, a, b)"
      ],
      "metadata": {
        "colab": {
          "base_uri": "https://localhost:8080/",
          "height": 102
        },
        "id": "NSDDCt-gfEwW",
        "outputId": "f15f317e-f56e-42d8-d57e-e40058835472"
      },
      "execution_count": null,
      "outputs": [
        {
          "output_type": "stream",
          "name": "stdout",
          "text": [
            "x_new 0.6000000000000001, x_old 2\n",
            "x_new 1.0368, x_old 0.6000000000000001\n",
            "x_new 1.2065374887936, x_old 1.0368\n",
            "x_new 1.213950772929374, x_old 1.2065374887936\n"
          ]
        },
        {
          "output_type": "execute_result",
          "data": {
            "text/plain": [
              "'корень: 1.213950772929374, кол-во итераций: 4'"
            ],
            "application/vnd.google.colaboratory.intrinsic+json": {
              "type": "string"
            }
          },
          "metadata": {},
          "execution_count": 29
        }
      ]
    },
    {
      "cell_type": "markdown",
      "source": [
        "## Дополнительные методы"
      ],
      "metadata": {
        "id": "-cfABgLSckti"
      }
    },
    {
      "cell_type": "code",
      "source": [
        "def steffensen(f, xinit, tol=.01, maxiter=100):\n",
        "    \"\"\" Steffensen's method using Aitken \"\"\"\n",
        "    x0 = xinit\n",
        "    x = x0 - f(x0)**2/(f(x0 + f(x0)) - f(x0))\n",
        "    iter = 0\n",
        "    while abs(x - x0) > tol and iter < maxiter:\n",
        "        iter += 1\n",
        "        x0 = x\n",
        "        x = x0 - f(x0)**2/(f(x + f(x)) - f(x))\n",
        "\n",
        "    return None if abs(x - x0) > tol else f'корень: {x}, кол-во итераций: {iter}'"
      ],
      "metadata": {
        "id": "lGpMkMt5lyfu"
      },
      "execution_count": 25,
      "outputs": []
    },
    {
      "cell_type": "code",
      "source": [
        "print(steffensen(f, xinit=1))"
      ],
      "metadata": {
        "colab": {
          "base_uri": "https://localhost:8080/"
        },
        "id": "1vSAjRfOmmI2",
        "outputId": "29d668e8-4ee7-49c6-cb45-6e62a1e26d8c"
      },
      "execution_count": 24,
      "outputs": [
        {
          "output_type": "stream",
          "name": "stdout",
          "text": [
            "корень: 1.2135212228227215, кол-во итераций: 5\n"
          ]
        }
      ]
    },
    {
      "cell_type": "code",
      "source": [
        "def secant(f, xinit, tol=.01, maxiter=100):\n",
        "    \"\"\" Steffensen's method using Aitken \"\"\"\n",
        "    x00 = 0\n",
        "    x0 = xinit\n",
        "    x = x0 - f(x0)*(x00 - x0)/(f(x00) - f(x0))\n",
        "    iter = 0\n",
        "    while abs(x - x0) > tol and iter < maxiter:\n",
        "        iter += 1\n",
        "        x00 = x0\n",
        "        x0 = x\n",
        "        x = x0 - f(x0)*(x00 - x0)/(f(x00) - f(x0))\n",
        "\n",
        "    return None if abs(x - x0) > tol else f'корень: {x}, кол-во итераций: {iter}'"
      ],
      "metadata": {
        "id": "5jP9jEbgHCi-"
      },
      "execution_count": 1,
      "outputs": []
    },
    {
      "cell_type": "code",
      "source": [
        "print(secant(f, xinit=1))"
      ],
      "metadata": {
        "colab": {
          "base_uri": "https://localhost:8080/"
        },
        "id": "ejUr5cR8IDYw",
        "outputId": "ea439d2d-b2a2-4156-8ce5-8907ecc84315"
      },
      "execution_count": 7,
      "outputs": [
        {
          "output_type": "stream",
          "name": "stdout",
          "text": [
            "корень: 1.2135978861709702, кол-во итераций: 3\n"
          ]
        }
      ]
    }
  ]
}